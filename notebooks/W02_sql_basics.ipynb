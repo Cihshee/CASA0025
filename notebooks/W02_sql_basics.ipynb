{
  "cells": [
    {
      "cell_type": "markdown",
      "metadata": {
        "id": "yqlpl1zwaPeA"
      },
      "source": [
        "# SQL Basics\n",
        "\n",
        "## Introduction\n",
        "\n",
        "This notebook is a short introduction to SQL. It is based on the [DuckDB](https://duckdb.org/) database engine.\n",
        "\n",
        "## Datasets\n",
        "\n",
        "The following datasets are used in this notebook. You don't need to download them, they can be accessed directly from the notebook.\n",
        "\n",
        "- [cities.csv](https://open.gishub.org/data/duckdb/cities.csv)\n",
        "- [countries.csv](https://open.gishub.org/data/duckdb/countries.csv)\n",
        "\n",
        "## References\n",
        "\n",
        "- [W3Schools SQL Tutorial](https://www.w3schools.com/sql)\n",
        "- [DuckDB SQL Introduction](https://duckdb.org/docs/sql/introduction.html)"
      ],
      "id": "yqlpl1zwaPeA"
    },
    {
      "cell_type": "markdown",
      "metadata": {
        "id": "p2ClDVHGaPeM"
      },
      "source": [
        "## Installation\n",
        "\n",
        "Uncomment the following cell to install the required packages."
      ],
      "id": "p2ClDVHGaPeM"
    },
    {
      "cell_type": "code",
      "execution_count": null,
      "metadata": {
        "id": "1B47XKSyaPeO",
        "outputId": "88b769f8-7609-4c67-eb16-2e70dcb205d0"
      },
      "outputs": [
        {
          "name": "stdout",
          "output_type": "stream",
          "text": [
            "Requirement already satisfied: duckdb in /Users/ollieballinger/miniconda3/envs/geo/lib/python3.9/site-packages (0.9.2)\n",
            "Requirement already satisfied: duckdb-engine in /Users/ollieballinger/miniconda3/envs/geo/lib/python3.9/site-packages (0.10.0)\n",
            "Requirement already satisfied: jupysql in /Users/ollieballinger/miniconda3/envs/geo/lib/python3.9/site-packages (0.10.7)\n",
            "Requirement already satisfied: sqlalchemy>=1.3.22 in /Users/ollieballinger/miniconda3/envs/geo/lib/python3.9/site-packages (from duckdb-engine) (2.0.21)\n",
            "Requirement already satisfied: prettytable in /Users/ollieballinger/miniconda3/envs/geo/lib/python3.9/site-packages (from jupysql) (3.9.0)\n",
            "Requirement already satisfied: sqlparse in /Users/ollieballinger/miniconda3/envs/geo/lib/python3.9/site-packages (from jupysql) (0.4.4)\n",
            "Requirement already satisfied: ipython-genutils>=0.1.0 in /Users/ollieballinger/miniconda3/envs/geo/lib/python3.9/site-packages (from jupysql) (0.2.0)\n",
            "Requirement already satisfied: jinja2 in /Users/ollieballinger/miniconda3/envs/geo/lib/python3.9/site-packages (from jupysql) (3.0.3)\n",
            "Requirement already satisfied: sqlglot>=11.3.7 in /Users/ollieballinger/miniconda3/envs/geo/lib/python3.9/site-packages (from jupysql) (20.5.0)\n",
            "Requirement already satisfied: ploomber-core>=0.2.7 in /Users/ollieballinger/miniconda3/envs/geo/lib/python3.9/site-packages (from jupysql) (0.2.19)\n",
            "Requirement already satisfied: jupysql-plugin in /Users/ollieballinger/miniconda3/envs/geo/lib/python3.9/site-packages (from jupysql) (0.3.1)\n",
            "Requirement already satisfied: click in /Users/ollieballinger/miniconda3/envs/geo/lib/python3.9/site-packages (from ploomber-core>=0.2.7->jupysql) (8.1.3)\n",
            "Requirement already satisfied: pyyaml in /Users/ollieballinger/miniconda3/envs/geo/lib/python3.9/site-packages (from ploomber-core>=0.2.7->jupysql) (5.4.1)\n",
            "Requirement already satisfied: posthog in /Users/ollieballinger/miniconda3/envs/geo/lib/python3.9/site-packages (from ploomber-core>=0.2.7->jupysql) (3.1.0)\n",
            "Requirement already satisfied: typing-extensions>=4.2.0 in /Users/ollieballinger/miniconda3/envs/geo/lib/python3.9/site-packages (from sqlalchemy>=1.3.22->duckdb-engine) (4.7.1)\n",
            "Requirement already satisfied: MarkupSafe>=2.0 in /Users/ollieballinger/miniconda3/envs/geo/lib/python3.9/site-packages (from jinja2->jupysql) (2.1.1)\n",
            "Requirement already satisfied: wcwidth in /Users/ollieballinger/miniconda3/envs/geo/lib/python3.9/site-packages (from prettytable->jupysql) (0.2.5)\n",
            "Requirement already satisfied: requests<3.0,>=2.7 in /Users/ollieballinger/miniconda3/envs/geo/lib/python3.9/site-packages (from posthog->ploomber-core>=0.2.7->jupysql) (2.31.0)\n",
            "Requirement already satisfied: six>=1.5 in /Users/ollieballinger/miniconda3/envs/geo/lib/python3.9/site-packages (from posthog->ploomber-core>=0.2.7->jupysql) (1.16.0)\n",
            "Requirement already satisfied: monotonic>=1.5 in /Users/ollieballinger/miniconda3/envs/geo/lib/python3.9/site-packages (from posthog->ploomber-core>=0.2.7->jupysql) (1.6)\n",
            "Requirement already satisfied: backoff>=1.10.0 in /Users/ollieballinger/miniconda3/envs/geo/lib/python3.9/site-packages (from posthog->ploomber-core>=0.2.7->jupysql) (2.2.1)\n",
            "Requirement already satisfied: python-dateutil>2.1 in /Users/ollieballinger/miniconda3/envs/geo/lib/python3.9/site-packages (from posthog->ploomber-core>=0.2.7->jupysql) (2.8.2)\n",
            "Requirement already satisfied: charset-normalizer<4,>=2 in /Users/ollieballinger/miniconda3/envs/geo/lib/python3.9/site-packages (from requests<3.0,>=2.7->posthog->ploomber-core>=0.2.7->jupysql) (3.3.2)\n",
            "Requirement already satisfied: idna<4,>=2.5 in /Users/ollieballinger/miniconda3/envs/geo/lib/python3.9/site-packages (from requests<3.0,>=2.7->posthog->ploomber-core>=0.2.7->jupysql) (3.6)\n",
            "Requirement already satisfied: urllib3<3,>=1.21.1 in /Users/ollieballinger/miniconda3/envs/geo/lib/python3.9/site-packages (from requests<3.0,>=2.7->posthog->ploomber-core>=0.2.7->jupysql) (1.26.15)\n",
            "Requirement already satisfied: certifi>=2017.4.17 in /Users/ollieballinger/miniconda3/envs/geo/lib/python3.9/site-packages (from requests<3.0,>=2.7->posthog->ploomber-core>=0.2.7->jupysql) (2023.11.17)\n",
            "Note: you may need to restart the kernel to use updated packages.\n"
          ]
        }
      ],
      "source": [
        "%pip install duckdb duckdb-engine jupysql"
      ],
      "id": "1B47XKSyaPeO"
    },
    {
      "cell_type": "markdown",
      "metadata": {
        "id": "R7T6nJScaPeT"
      },
      "source": [
        "## Library Import and Configuration"
      ],
      "id": "R7T6nJScaPeT"
    },
    {
      "cell_type": "code",
      "execution_count": null,
      "metadata": {
        "id": "wXGuMlJTaPeU",
        "outputId": "e597aced-8f22-4a33-9cf7-212b0482edf4"
      },
      "outputs": [
        {
          "name": "stdout",
          "output_type": "stream",
          "text": [
            "\u001b[32mDeploy AI and data apps for free on Ploomber Cloud! Learn more: https://docs.cloud.ploomber.io/en/latest/quickstart/signup.html\u001b[0m\n"
          ]
        }
      ],
      "source": [
        "import duckdb\n",
        "import pandas as pd\n",
        "\n",
        "# Import jupysql Jupyter extension to create SQL cells\n",
        "%load_ext sql"
      ],
      "id": "wXGuMlJTaPeU"
    },
    {
      "cell_type": "markdown",
      "metadata": {
        "id": "519A-JZ_aPeV"
      },
      "source": [
        "Set configurations on jupysql to directly output data to Pandas and to simplify the output that is printed to the notebook."
      ],
      "id": "519A-JZ_aPeV"
    },
    {
      "cell_type": "code",
      "execution_count": null,
      "metadata": {
        "id": "A4GBMd90aPeW"
      },
      "outputs": [],
      "source": [
        "%config SqlMagic.autopandas = True\n",
        "%config SqlMagic.feedback = False\n",
        "%config SqlMagic.displaycon = False"
      ],
      "id": "A4GBMd90aPeW"
    },
    {
      "cell_type": "markdown",
      "metadata": {
        "id": "Bto0WP8aaPeX"
      },
      "source": [
        "## Connecting to DuckDB\n",
        "\n",
        "Connect jupysql to DuckDB using a SQLAlchemy-style connection string. You may either connect to an in memory DuckDB, or a file backed db."
      ],
      "id": "Bto0WP8aaPeX"
    },
    {
      "cell_type": "code",
      "execution_count": null,
      "metadata": {
        "id": "ekgRXIv-aPeY"
      },
      "outputs": [],
      "source": [
        "%sql duckdb:///:memory:\n",
        "# %sql duckdb:///path/to/file.db"
      ],
      "id": "ekgRXIv-aPeY"
    },
    {
      "cell_type": "markdown",
      "metadata": {
        "id": "kIPBTFQZaPea"
      },
      "source": [
        " If your SQL query is one line only, you may use the `%sql` magic command. For multi-line SQL query, you may use the `%%sql` magic command."
      ],
      "id": "kIPBTFQZaPea"
    },
    {
      "cell_type": "markdown",
      "metadata": {
        "id": "avaGb_NQaPeb"
      },
      "source": [
        "## Install extensions"
      ],
      "id": "avaGb_NQaPeb"
    },
    {
      "cell_type": "markdown",
      "metadata": {
        "id": "tWbAhOBjaPeb"
      },
      "source": [
        "\n",
        "Check available DuckDB extensions."
      ],
      "id": "tWbAhOBjaPeb"
    },
    {
      "cell_type": "code",
      "execution_count": null,
      "metadata": {
        "id": "A9uCXKEsaPec",
        "outputId": "c19c163b-d479-42c3-8a03-727b5c1c4824"
      },
      "outputs": [
        {
          "data": {
            "text/html": [
              "<div>\n",
              "<style scoped>\n",
              "    .dataframe tbody tr th:only-of-type {\n",
              "        vertical-align: middle;\n",
              "    }\n",
              "\n",
              "    .dataframe tbody tr th {\n",
              "        vertical-align: top;\n",
              "    }\n",
              "\n",
              "    .dataframe thead th {\n",
              "        text-align: right;\n",
              "    }\n",
              "</style>\n",
              "<table border=\"1\" class=\"dataframe\">\n",
              "  <thead>\n",
              "    <tr style=\"text-align: right;\">\n",
              "      <th></th>\n",
              "      <th>extension_name</th>\n",
              "      <th>loaded</th>\n",
              "      <th>installed</th>\n",
              "      <th>install_path</th>\n",
              "      <th>description</th>\n",
              "      <th>aliases</th>\n",
              "    </tr>\n",
              "  </thead>\n",
              "  <tbody>\n",
              "    <tr>\n",
              "      <th>0</th>\n",
              "      <td>arrow</td>\n",
              "      <td>False</td>\n",
              "      <td>False</td>\n",
              "      <td></td>\n",
              "      <td>A zero-copy data integration between Apache Ar...</td>\n",
              "      <td>[]</td>\n",
              "    </tr>\n",
              "    <tr>\n",
              "      <th>1</th>\n",
              "      <td>autocomplete</td>\n",
              "      <td>False</td>\n",
              "      <td>False</td>\n",
              "      <td></td>\n",
              "      <td>Adds support for autocomplete in the shell</td>\n",
              "      <td>[]</td>\n",
              "    </tr>\n",
              "    <tr>\n",
              "      <th>2</th>\n",
              "      <td>aws</td>\n",
              "      <td>False</td>\n",
              "      <td>False</td>\n",
              "      <td></td>\n",
              "      <td>Provides features that depend on the AWS SDK</td>\n",
              "      <td>[]</td>\n",
              "    </tr>\n",
              "    <tr>\n",
              "      <th>3</th>\n",
              "      <td>azure</td>\n",
              "      <td>False</td>\n",
              "      <td>False</td>\n",
              "      <td></td>\n",
              "      <td>Adds a filesystem abstraction for Azure blob s...</td>\n",
              "      <td>[]</td>\n",
              "    </tr>\n",
              "    <tr>\n",
              "      <th>4</th>\n",
              "      <td>excel</td>\n",
              "      <td>False</td>\n",
              "      <td>False</td>\n",
              "      <td></td>\n",
              "      <td>Adds support for Excel-like format strings</td>\n",
              "      <td>[]</td>\n",
              "    </tr>\n",
              "    <tr>\n",
              "      <th>5</th>\n",
              "      <td>fts</td>\n",
              "      <td>False</td>\n",
              "      <td>True</td>\n",
              "      <td>(BUILT-IN)</td>\n",
              "      <td>Adds support for Full-Text Search Indexes</td>\n",
              "      <td>[]</td>\n",
              "    </tr>\n",
              "    <tr>\n",
              "      <th>6</th>\n",
              "      <td>httpfs</td>\n",
              "      <td>False</td>\n",
              "      <td>True</td>\n",
              "      <td>/Users/ollieballinger/.duckdb/extensions/v0.9....</td>\n",
              "      <td>Adds support for reading and writing files ove...</td>\n",
              "      <td>[http, https, s3]</td>\n",
              "    </tr>\n",
              "    <tr>\n",
              "      <th>7</th>\n",
              "      <td>iceberg</td>\n",
              "      <td>False</td>\n",
              "      <td>False</td>\n",
              "      <td></td>\n",
              "      <td>Adds support for Apache Iceberg</td>\n",
              "      <td>[]</td>\n",
              "    </tr>\n",
              "    <tr>\n",
              "      <th>8</th>\n",
              "      <td>icu</td>\n",
              "      <td>True</td>\n",
              "      <td>True</td>\n",
              "      <td>(BUILT-IN)</td>\n",
              "      <td>Adds support for time zones and collations usi...</td>\n",
              "      <td>[]</td>\n",
              "    </tr>\n",
              "    <tr>\n",
              "      <th>9</th>\n",
              "      <td>inet</td>\n",
              "      <td>False</td>\n",
              "      <td>False</td>\n",
              "      <td></td>\n",
              "      <td>Adds support for IP-related data types and fun...</td>\n",
              "      <td>[]</td>\n",
              "    </tr>\n",
              "    <tr>\n",
              "      <th>10</th>\n",
              "      <td>jemalloc</td>\n",
              "      <td>False</td>\n",
              "      <td>False</td>\n",
              "      <td></td>\n",
              "      <td>Overwrites system allocator with JEMalloc</td>\n",
              "      <td>[]</td>\n",
              "    </tr>\n",
              "    <tr>\n",
              "      <th>11</th>\n",
              "      <td>json</td>\n",
              "      <td>True</td>\n",
              "      <td>True</td>\n",
              "      <td>(BUILT-IN)</td>\n",
              "      <td>Adds support for JSON operations</td>\n",
              "      <td>[]</td>\n",
              "    </tr>\n",
              "    <tr>\n",
              "      <th>12</th>\n",
              "      <td>motherduck</td>\n",
              "      <td>False</td>\n",
              "      <td>False</td>\n",
              "      <td></td>\n",
              "      <td>Enables motherduck integration with the system</td>\n",
              "      <td>[md]</td>\n",
              "    </tr>\n",
              "    <tr>\n",
              "      <th>13</th>\n",
              "      <td>mysql_scanner</td>\n",
              "      <td>False</td>\n",
              "      <td>False</td>\n",
              "      <td></td>\n",
              "      <td>Adds support for connecting to a MySQL database</td>\n",
              "      <td>[mysql]</td>\n",
              "    </tr>\n",
              "    <tr>\n",
              "      <th>14</th>\n",
              "      <td>parquet</td>\n",
              "      <td>True</td>\n",
              "      <td>True</td>\n",
              "      <td>(BUILT-IN)</td>\n",
              "      <td>Adds support for reading and writing parquet f...</td>\n",
              "      <td>[]</td>\n",
              "    </tr>\n",
              "    <tr>\n",
              "      <th>15</th>\n",
              "      <td>postgres_scanner</td>\n",
              "      <td>False</td>\n",
              "      <td>False</td>\n",
              "      <td></td>\n",
              "      <td>Adds support for connecting to a Postgres data...</td>\n",
              "      <td>[postgres]</td>\n",
              "    </tr>\n",
              "    <tr>\n",
              "      <th>16</th>\n",
              "      <td>spatial</td>\n",
              "      <td>False</td>\n",
              "      <td>True</td>\n",
              "      <td>/Users/ollieballinger/.duckdb/extensions/v0.9....</td>\n",
              "      <td>Geospatial extension that adds support for wor...</td>\n",
              "      <td>[]</td>\n",
              "    </tr>\n",
              "    <tr>\n",
              "      <th>17</th>\n",
              "      <td>sqlite_scanner</td>\n",
              "      <td>False</td>\n",
              "      <td>False</td>\n",
              "      <td></td>\n",
              "      <td>Adds support for reading and writing SQLite da...</td>\n",
              "      <td>[sqlite, sqlite3]</td>\n",
              "    </tr>\n",
              "    <tr>\n",
              "      <th>18</th>\n",
              "      <td>substrait</td>\n",
              "      <td>False</td>\n",
              "      <td>False</td>\n",
              "      <td></td>\n",
              "      <td>Adds support for the Substrait integration</td>\n",
              "      <td>[]</td>\n",
              "    </tr>\n",
              "    <tr>\n",
              "      <th>19</th>\n",
              "      <td>tpcds</td>\n",
              "      <td>True</td>\n",
              "      <td>True</td>\n",
              "      <td>(BUILT-IN)</td>\n",
              "      <td>Adds TPC-DS data generation and query support</td>\n",
              "      <td>[]</td>\n",
              "    </tr>\n",
              "    <tr>\n",
              "      <th>20</th>\n",
              "      <td>tpch</td>\n",
              "      <td>True</td>\n",
              "      <td>True</td>\n",
              "      <td>(BUILT-IN)</td>\n",
              "      <td>Adds TPC-H data generation and query support</td>\n",
              "      <td>[]</td>\n",
              "    </tr>\n",
              "    <tr>\n",
              "      <th>21</th>\n",
              "      <td>visualizer</td>\n",
              "      <td>False</td>\n",
              "      <td>False</td>\n",
              "      <td></td>\n",
              "      <td>Creates an HTML-based visualization of the que...</td>\n",
              "      <td>[]</td>\n",
              "    </tr>\n",
              "  </tbody>\n",
              "</table>\n",
              "</div>"
            ],
            "text/plain": [
              "      extension_name  loaded  installed  \\\n",
              "0              arrow   False      False   \n",
              "1       autocomplete   False      False   \n",
              "2                aws   False      False   \n",
              "3              azure   False      False   \n",
              "4              excel   False      False   \n",
              "5                fts   False       True   \n",
              "6             httpfs   False       True   \n",
              "7            iceberg   False      False   \n",
              "8                icu    True       True   \n",
              "9               inet   False      False   \n",
              "10          jemalloc   False      False   \n",
              "11              json    True       True   \n",
              "12        motherduck   False      False   \n",
              "13     mysql_scanner   False      False   \n",
              "14           parquet    True       True   \n",
              "15  postgres_scanner   False      False   \n",
              "16           spatial   False       True   \n",
              "17    sqlite_scanner   False      False   \n",
              "18         substrait   False      False   \n",
              "19             tpcds    True       True   \n",
              "20              tpch    True       True   \n",
              "21        visualizer   False      False   \n",
              "\n",
              "                                         install_path  \\\n",
              "0                                                       \n",
              "1                                                       \n",
              "2                                                       \n",
              "3                                                       \n",
              "4                                                       \n",
              "5                                          (BUILT-IN)   \n",
              "6   /Users/ollieballinger/.duckdb/extensions/v0.9....   \n",
              "7                                                       \n",
              "8                                          (BUILT-IN)   \n",
              "9                                                       \n",
              "10                                                      \n",
              "11                                         (BUILT-IN)   \n",
              "12                                                      \n",
              "13                                                      \n",
              "14                                         (BUILT-IN)   \n",
              "15                                                      \n",
              "16  /Users/ollieballinger/.duckdb/extensions/v0.9....   \n",
              "17                                                      \n",
              "18                                                      \n",
              "19                                         (BUILT-IN)   \n",
              "20                                         (BUILT-IN)   \n",
              "21                                                      \n",
              "\n",
              "                                          description            aliases  \n",
              "0   A zero-copy data integration between Apache Ar...                 []  \n",
              "1          Adds support for autocomplete in the shell                 []  \n",
              "2        Provides features that depend on the AWS SDK                 []  \n",
              "3   Adds a filesystem abstraction for Azure blob s...                 []  \n",
              "4          Adds support for Excel-like format strings                 []  \n",
              "5           Adds support for Full-Text Search Indexes                 []  \n",
              "6   Adds support for reading and writing files ove...  [http, https, s3]  \n",
              "7                     Adds support for Apache Iceberg                 []  \n",
              "8   Adds support for time zones and collations usi...                 []  \n",
              "9   Adds support for IP-related data types and fun...                 []  \n",
              "10          Overwrites system allocator with JEMalloc                 []  \n",
              "11                   Adds support for JSON operations                 []  \n",
              "12     Enables motherduck integration with the system               [md]  \n",
              "13    Adds support for connecting to a MySQL database            [mysql]  \n",
              "14  Adds support for reading and writing parquet f...                 []  \n",
              "15  Adds support for connecting to a Postgres data...         [postgres]  \n",
              "16  Geospatial extension that adds support for wor...                 []  \n",
              "17  Adds support for reading and writing SQLite da...  [sqlite, sqlite3]  \n",
              "18         Adds support for the Substrait integration                 []  \n",
              "19      Adds TPC-DS data generation and query support                 []  \n",
              "20       Adds TPC-H data generation and query support                 []  \n",
              "21  Creates an HTML-based visualization of the que...                 []  "
            ]
          },
          "execution_count": 6,
          "metadata": {},
          "output_type": "execute_result"
        }
      ],
      "source": [
        "%%sql\n",
        "\n",
        "SELECT * FROM duckdb_extensions();"
      ],
      "id": "A9uCXKEsaPec"
    },
    {
      "cell_type": "markdown",
      "metadata": {
        "id": "s1iOBdWJaPed"
      },
      "source": [
        "DuckDB's [httpfs extension](https://duckdb.org/docs/extensions/httpfs) allows parquet and csv files to be queried remotely over http. This is useful for querying large datasets without having to download them locally. Let's install the extension and load the extension."
      ],
      "id": "s1iOBdWJaPed"
    },
    {
      "cell_type": "code",
      "execution_count": null,
      "metadata": {
        "id": "y624q-J2aPed",
        "outputId": "620b5f82-e713-40fa-f85c-e9c7ac9a1eaf"
      },
      "outputs": [
        {
          "data": {
            "text/html": [
              "<div>\n",
              "<style scoped>\n",
              "    .dataframe tbody tr th:only-of-type {\n",
              "        vertical-align: middle;\n",
              "    }\n",
              "\n",
              "    .dataframe tbody tr th {\n",
              "        vertical-align: top;\n",
              "    }\n",
              "\n",
              "    .dataframe thead th {\n",
              "        text-align: right;\n",
              "    }\n",
              "</style>\n",
              "<table border=\"1\" class=\"dataframe\">\n",
              "  <thead>\n",
              "    <tr style=\"text-align: right;\">\n",
              "      <th></th>\n",
              "      <th>Success</th>\n",
              "    </tr>\n",
              "  </thead>\n",
              "  <tbody>\n",
              "  </tbody>\n",
              "</table>\n",
              "</div>"
            ],
            "text/plain": [
              "Empty DataFrame\n",
              "Columns: [Success]\n",
              "Index: []"
            ]
          },
          "execution_count": 7,
          "metadata": {},
          "output_type": "execute_result"
        }
      ],
      "source": [
        "%%sql\n",
        "\n",
        "INSTALL httpfs;\n",
        "LOAD httpfs;"
      ],
      "id": "y624q-J2aPed"
    },
    {
      "cell_type": "markdown",
      "metadata": {
        "id": "CfYXEPBNaPee"
      },
      "source": [
        "## Read CSV\n",
        "\n",
        "Use the `httpfs` extension to read the `cities.csv` file from the web."
      ],
      "id": "CfYXEPBNaPee"
    },
    {
      "cell_type": "code",
      "execution_count": null,
      "metadata": {
        "id": "2OEV3mP8aPee",
        "outputId": "7875dfbe-ba66-4415-94f4-7c4bc27aeed9"
      },
      "outputs": [
        {
          "data": {
            "text/html": [
              "<div>\n",
              "<style scoped>\n",
              "    .dataframe tbody tr th:only-of-type {\n",
              "        vertical-align: middle;\n",
              "    }\n",
              "\n",
              "    .dataframe tbody tr th {\n",
              "        vertical-align: top;\n",
              "    }\n",
              "\n",
              "    .dataframe thead th {\n",
              "        text-align: right;\n",
              "    }\n",
              "</style>\n",
              "<table border=\"1\" class=\"dataframe\">\n",
              "  <thead>\n",
              "    <tr style=\"text-align: right;\">\n",
              "      <th></th>\n",
              "      <th>id</th>\n",
              "      <th>name</th>\n",
              "      <th>country</th>\n",
              "      <th>latitude</th>\n",
              "      <th>longitude</th>\n",
              "      <th>population</th>\n",
              "    </tr>\n",
              "  </thead>\n",
              "  <tbody>\n",
              "    <tr>\n",
              "      <th>0</th>\n",
              "      <td>1</td>\n",
              "      <td>Bombo</td>\n",
              "      <td>UGA</td>\n",
              "      <td>0.58330</td>\n",
              "      <td>32.53330</td>\n",
              "      <td>75000</td>\n",
              "    </tr>\n",
              "    <tr>\n",
              "      <th>1</th>\n",
              "      <td>2</td>\n",
              "      <td>Fort Portal</td>\n",
              "      <td>UGA</td>\n",
              "      <td>0.67100</td>\n",
              "      <td>30.27500</td>\n",
              "      <td>42670</td>\n",
              "    </tr>\n",
              "    <tr>\n",
              "      <th>2</th>\n",
              "      <td>3</td>\n",
              "      <td>Potenza</td>\n",
              "      <td>ITA</td>\n",
              "      <td>40.64200</td>\n",
              "      <td>15.79900</td>\n",
              "      <td>69060</td>\n",
              "    </tr>\n",
              "    <tr>\n",
              "      <th>3</th>\n",
              "      <td>4</td>\n",
              "      <td>Campobasso</td>\n",
              "      <td>ITA</td>\n",
              "      <td>41.56300</td>\n",
              "      <td>14.65600</td>\n",
              "      <td>50762</td>\n",
              "    </tr>\n",
              "    <tr>\n",
              "      <th>4</th>\n",
              "      <td>5</td>\n",
              "      <td>Aosta</td>\n",
              "      <td>ITA</td>\n",
              "      <td>45.73700</td>\n",
              "      <td>7.31500</td>\n",
              "      <td>34062</td>\n",
              "    </tr>\n",
              "    <tr>\n",
              "      <th>...</th>\n",
              "      <td>...</td>\n",
              "      <td>...</td>\n",
              "      <td>...</td>\n",
              "      <td>...</td>\n",
              "      <td>...</td>\n",
              "      <td>...</td>\n",
              "    </tr>\n",
              "    <tr>\n",
              "      <th>1244</th>\n",
              "      <td>1245</td>\n",
              "      <td>Rio de Janeiro</td>\n",
              "      <td>BRA</td>\n",
              "      <td>-22.92502</td>\n",
              "      <td>-43.22502</td>\n",
              "      <td>11748000</td>\n",
              "    </tr>\n",
              "    <tr>\n",
              "      <th>1245</th>\n",
              "      <td>1246</td>\n",
              "      <td>Sao Paulo</td>\n",
              "      <td>BRA</td>\n",
              "      <td>-23.55868</td>\n",
              "      <td>-46.62502</td>\n",
              "      <td>18845000</td>\n",
              "    </tr>\n",
              "    <tr>\n",
              "      <th>1246</th>\n",
              "      <td>1247</td>\n",
              "      <td>Sydney</td>\n",
              "      <td>AUS</td>\n",
              "      <td>-33.92001</td>\n",
              "      <td>151.18518</td>\n",
              "      <td>4630000</td>\n",
              "    </tr>\n",
              "    <tr>\n",
              "      <th>1247</th>\n",
              "      <td>1248</td>\n",
              "      <td>Singapore</td>\n",
              "      <td>SGP</td>\n",
              "      <td>1.29303</td>\n",
              "      <td>103.85582</td>\n",
              "      <td>5183700</td>\n",
              "    </tr>\n",
              "    <tr>\n",
              "      <th>1248</th>\n",
              "      <td>1249</td>\n",
              "      <td>Hong Kong</td>\n",
              "      <td>CHN</td>\n",
              "      <td>22.30498</td>\n",
              "      <td>114.18501</td>\n",
              "      <td>7206000</td>\n",
              "    </tr>\n",
              "  </tbody>\n",
              "</table>\n",
              "<p>1249 rows × 6 columns</p>\n",
              "</div>"
            ],
            "text/plain": [
              "        id            name country  latitude  longitude  population\n",
              "0        1           Bombo     UGA   0.58330   32.53330       75000\n",
              "1        2     Fort Portal     UGA   0.67100   30.27500       42670\n",
              "2        3         Potenza     ITA  40.64200   15.79900       69060\n",
              "3        4      Campobasso     ITA  41.56300   14.65600       50762\n",
              "4        5           Aosta     ITA  45.73700    7.31500       34062\n",
              "...    ...             ...     ...       ...        ...         ...\n",
              "1244  1245  Rio de Janeiro     BRA -22.92502  -43.22502    11748000\n",
              "1245  1246       Sao Paulo     BRA -23.55868  -46.62502    18845000\n",
              "1246  1247          Sydney     AUS -33.92001  151.18518     4630000\n",
              "1247  1248       Singapore     SGP   1.29303  103.85582     5183700\n",
              "1248  1249       Hong Kong     CHN  22.30498  114.18501     7206000\n",
              "\n",
              "[1249 rows x 6 columns]"
            ]
          },
          "execution_count": 8,
          "metadata": {},
          "output_type": "execute_result"
        }
      ],
      "source": [
        "%%sql\n",
        "\n",
        "SELECT * FROM 'https://open.gishub.org/data/duckdb/cities.csv';"
      ],
      "id": "2OEV3mP8aPee"
    },
    {
      "cell_type": "code",
      "execution_count": null,
      "metadata": {
        "id": "XDBlmewGaPef"
      },
      "outputs": [],
      "source": [
        "%%sql\n",
        "\n",
        "SELECT * FROM 'https://open.gishub.org/data/duckdb/countries.csv';"
      ],
      "id": "XDBlmewGaPef"
    },
    {
      "cell_type": "markdown",
      "metadata": {
        "id": "7q-OcFS_aPef"
      },
      "source": [
        "## Create Table\n",
        "\n",
        "Create a table named `cities` from the `cities.csv` file."
      ],
      "id": "7q-OcFS_aPef"
    },
    {
      "cell_type": "code",
      "execution_count": null,
      "metadata": {
        "id": "Q_LbyPHtaPeg"
      },
      "outputs": [],
      "source": [
        "%%sql\n",
        "\n",
        "CREATE TABLE cities AS SELECT * FROM 'https://open.gishub.org/data/duckdb/cities.csv';"
      ],
      "id": "Q_LbyPHtaPeg"
    },
    {
      "cell_type": "markdown",
      "metadata": {
        "id": "V-QrZBm2aPeh"
      },
      "source": [
        "Create a table named `countries` from the `countries.csv` file."
      ],
      "id": "V-QrZBm2aPeh"
    },
    {
      "cell_type": "code",
      "execution_count": null,
      "metadata": {
        "id": "e_mzOJXBaPeh"
      },
      "outputs": [],
      "source": [
        "%%sql\n",
        "\n",
        "CREATE TABLE countries AS SELECT * FROM 'https://open.gishub.org/data/duckdb/countries.csv';"
      ],
      "id": "e_mzOJXBaPeh"
    },
    {
      "cell_type": "markdown",
      "metadata": {
        "id": "caF4NHqZaPei"
      },
      "source": [
        "Display the table content in the database."
      ],
      "id": "caF4NHqZaPei"
    },
    {
      "cell_type": "code",
      "execution_count": null,
      "metadata": {
        "id": "RaOREafsaPei"
      },
      "outputs": [],
      "source": [
        "%%sql\n",
        "\n",
        "FROM cities;"
      ],
      "id": "RaOREafsaPei"
    },
    {
      "cell_type": "code",
      "execution_count": null,
      "metadata": {
        "id": "iORU1581aPei"
      },
      "outputs": [],
      "source": [
        "%%sql\n",
        "\n",
        "FROM countries;"
      ],
      "id": "iORU1581aPei"
    },
    {
      "cell_type": "markdown",
      "metadata": {
        "id": "aGH2nNfxaPei"
      },
      "source": [
        "## The SQL SELECT statement\n",
        "\n",
        "The `SELECT` statement is used to select data from a database. Use either `SELECT *` to select all columns, or `SELECT column1, column2, ...` to select specific columns.\n",
        "\n",
        "`SELECT * FROM cities` is the same as `FROM cities`."
      ],
      "id": "aGH2nNfxaPei"
    },
    {
      "cell_type": "code",
      "execution_count": null,
      "metadata": {
        "scrolled": true,
        "tags": [
          "hide-output"
        ],
        "id": "g9lXdmX8aPej"
      },
      "outputs": [],
      "source": [
        "%%sql\n",
        "\n",
        "SELECT * FROM cities;"
      ],
      "id": "g9lXdmX8aPej"
    },
    {
      "cell_type": "markdown",
      "metadata": {
        "id": "J70gyPy3aPej"
      },
      "source": [
        "To limit the number of rows returned, use the `LIMIT` keyword. For example, `SELECT * FROM cities LIMIT 10` will return only the first 10 rows."
      ],
      "id": "J70gyPy3aPej"
    },
    {
      "cell_type": "code",
      "execution_count": null,
      "metadata": {
        "scrolled": false,
        "id": "urgPlFJLaPek"
      },
      "outputs": [],
      "source": [
        "%%sql\n",
        "\n",
        "SELECT * FROM cities LIMIT 10;"
      ],
      "id": "urgPlFJLaPek"
    },
    {
      "cell_type": "markdown",
      "metadata": {
        "id": "jq7zuqztaPek"
      },
      "source": [
        "Select a subset of columns from the `cities` table and display the first 10 rows."
      ],
      "id": "jq7zuqztaPek"
    },
    {
      "cell_type": "code",
      "execution_count": null,
      "metadata": {
        "scrolled": false,
        "id": "xUvIO3FHaPel"
      },
      "outputs": [],
      "source": [
        "%%sql\n",
        "\n",
        "SELECT name, country FROM cities LIMIT 10;"
      ],
      "id": "xUvIO3FHaPel"
    },
    {
      "cell_type": "markdown",
      "metadata": {
        "id": "R77MkECYaPel"
      },
      "source": [
        "To select distinct values, use the `DISTINCT` keyword. For example, `SELECT DISTINCT country FROM cities` will return only the distinct values of the `country` column."
      ],
      "id": "R77MkECYaPel"
    },
    {
      "cell_type": "code",
      "execution_count": null,
      "metadata": {
        "id": "ouUuF6DAaPel"
      },
      "outputs": [],
      "source": [
        "%%sql\n",
        "\n",
        "SELECT DISTINCT country FROM cities LIMIT 10;"
      ],
      "id": "ouUuF6DAaPel"
    },
    {
      "cell_type": "markdown",
      "metadata": {
        "id": "DPGFNYdKaPem"
      },
      "source": [
        "To count the number of rows returned, use the `COUNT(*)` function. For example, `SELECT COUNT(*) FROM cities` will return the number of rows in the `cities` table."
      ],
      "id": "DPGFNYdKaPem"
    },
    {
      "cell_type": "code",
      "execution_count": null,
      "metadata": {
        "id": "fsBQtr2OaPen"
      },
      "outputs": [],
      "source": [
        "%%sql\n",
        "\n",
        "SELECT COUNT(*) FROM cities;"
      ],
      "id": "fsBQtr2OaPen"
    },
    {
      "cell_type": "markdown",
      "metadata": {
        "id": "pVkJm3yBaPen"
      },
      "source": [
        "To count the number of distinct values, use the `COUNT(DISTINCT column)` function. For example, `SELECT COUNT(DISTINCT country) FROM cities` will return the number of distinct values in the `country` column."
      ],
      "id": "pVkJm3yBaPen"
    },
    {
      "cell_type": "code",
      "execution_count": null,
      "metadata": {
        "id": "d4BGmwSdaPeo"
      },
      "outputs": [],
      "source": [
        "%%sql\n",
        "\n",
        "SELECT COUNT(DISTINCT country) FROM cities;"
      ],
      "id": "d4BGmwSdaPeo"
    },
    {
      "cell_type": "markdown",
      "metadata": {
        "id": "Ye1AJIOcaPep"
      },
      "source": [
        "To calculate the maximum value, use the `MAX(column)` function. For example, `SELECT MAX(population) FROM cities` will return the maximum value in the `population` column."
      ],
      "id": "Ye1AJIOcaPep"
    },
    {
      "cell_type": "code",
      "execution_count": null,
      "metadata": {
        "id": "bX2BOyaRaPep"
      },
      "outputs": [],
      "source": [
        "%%sql\n",
        "\n",
        "SELECT MAX(population) FROM cities;"
      ],
      "id": "bX2BOyaRaPep"
    },
    {
      "cell_type": "markdown",
      "metadata": {
        "id": "9WLjSxz6aPex"
      },
      "source": [
        "To calculate the total value, use the `SUM(column)` function. For example, `SELECT SUM(population) FROM cities` will return the total value in the `population` column."
      ],
      "id": "9WLjSxz6aPex"
    },
    {
      "cell_type": "code",
      "execution_count": null,
      "metadata": {
        "id": "iv0SacwhaPex"
      },
      "outputs": [],
      "source": [
        "%%sql\n",
        "\n",
        "SELECT SUM(population) FROM cities;"
      ],
      "id": "iv0SacwhaPex"
    },
    {
      "cell_type": "markdown",
      "metadata": {
        "id": "SRkrkQypaPex"
      },
      "source": [
        "To calculate the average value, use the `AVG(column)` function. For example, `SELECT AVG(population) FROM cities` will return the average value in the `population` column."
      ],
      "id": "SRkrkQypaPex"
    },
    {
      "cell_type": "code",
      "execution_count": null,
      "metadata": {
        "id": "CqSes15vaPex"
      },
      "outputs": [],
      "source": [
        "%%sql\n",
        "\n",
        "SELECT AVG(population) FROM cities;"
      ],
      "id": "CqSes15vaPex"
    },
    {
      "cell_type": "markdown",
      "metadata": {
        "id": "1zpwuVk4aPey"
      },
      "source": [
        "To order the results, use the `ORDER BY column` clause. For example, `SELECT * FROM cities ORDER BY country` will return the rows ordered by the `country` column alphabetically."
      ],
      "id": "1zpwuVk4aPey"
    },
    {
      "cell_type": "code",
      "execution_count": null,
      "metadata": {
        "id": "3nNvItIsaPey"
      },
      "outputs": [],
      "source": [
        "%%sql\n",
        "\n",
        "SELECT * FROM cities ORDER BY country LIMIT 10;"
      ],
      "id": "3nNvItIsaPey"
    },
    {
      "cell_type": "markdown",
      "metadata": {
        "id": "hVhphoycaPey"
      },
      "source": [
        "To order the results in descending order, use the `ORDER BY column DESC` clause. For example, `SELECT * FROM cities ORDER BY country ASC, population DESC` will return the rows ordered by the `country` column alphabetical order and then by the `population` column in descending order."
      ],
      "id": "hVhphoycaPey"
    },
    {
      "cell_type": "code",
      "execution_count": null,
      "metadata": {
        "id": "7m5EsibMaPey"
      },
      "outputs": [],
      "source": [
        "%%sql\n",
        "\n",
        "SELECT * FROM cities ORDER BY country ASC, population DESC LIMIT 10;"
      ],
      "id": "7m5EsibMaPey"
    },
    {
      "cell_type": "markdown",
      "metadata": {
        "id": "XkWmm-V7aPez"
      },
      "source": [
        "## The WHERE Clause\n",
        "\n",
        "The `WHERE` clause is used to filter records. The `WHERE` clause is used to extract only those records that fulfill a specified condition."
      ],
      "id": "XkWmm-V7aPez"
    },
    {
      "cell_type": "code",
      "execution_count": null,
      "metadata": {
        "scrolled": true,
        "tags": [
          "hide-output"
        ],
        "id": "shDyvSFKaPez"
      },
      "outputs": [],
      "source": [
        "%%sql\n",
        "\n",
        "SELECT * FROM cities WHERE country='USA'"
      ],
      "id": "shDyvSFKaPez"
    },
    {
      "cell_type": "markdown",
      "metadata": {
        "id": "-fdj5UJoaPez"
      },
      "source": [
        "You can use boolean operators such as `AND`, `OR`, `NOT` to filter records. For example, `SELECT * FROM cities WHERE country='USA' OR country='CAN'` will return the rows where the `country` column is either `USA` or `CAN`."
      ],
      "id": "-fdj5UJoaPez"
    },
    {
      "cell_type": "code",
      "execution_count": null,
      "metadata": {
        "scrolled": false,
        "tags": [
          "hide-output"
        ],
        "id": "Y4ZqeebIaPez"
      },
      "outputs": [],
      "source": [
        "%%sql\n",
        "\n",
        "SELECT * FROM cities WHERE country='USA' OR country='CAN';"
      ],
      "id": "Y4ZqeebIaPez"
    },
    {
      "cell_type": "markdown",
      "metadata": {
        "id": "u6OiKu7faPe0"
      },
      "source": [
        "To select US cities with a population greater than 1 million, use the following query: `SELECT * FROM cities WHERE country='USA' AND population > 1000000`."
      ],
      "id": "u6OiKu7faPe0"
    },
    {
      "cell_type": "code",
      "execution_count": null,
      "metadata": {
        "tags": [
          "hide-output"
        ],
        "id": "_GuEiGE_aPe0"
      },
      "outputs": [],
      "source": [
        "%%sql\n",
        "\n",
        "SELECT * FROM cities WHERE country='USA' AND population>1000000;"
      ],
      "id": "_GuEiGE_aPe0"
    },
    {
      "cell_type": "markdown",
      "metadata": {
        "id": "GdAZIWDGaPe1"
      },
      "source": [
        "To select cities with the country name starting with the letter `U`, use the following query: `SELECT * FROM cities WHERE country LIKE 'U%'`."
      ],
      "id": "GdAZIWDGaPe1"
    },
    {
      "cell_type": "code",
      "execution_count": null,
      "metadata": {
        "scrolled": false,
        "tags": [
          "hide-output"
        ],
        "id": "iM6cOMz2aPe2"
      },
      "outputs": [],
      "source": [
        "%%sql\n",
        "\n",
        "SELECT * FROM cities WHERE country LIKE 'U%';"
      ],
      "id": "iM6cOMz2aPe2"
    },
    {
      "cell_type": "markdown",
      "metadata": {
        "id": "ePdDhxsiaPe2"
      },
      "source": [
        "To select cities with the country name ending with the letter `A`, use the following query: `SELECT * FROM cities WHERE country LIKE '%A'`."
      ],
      "id": "ePdDhxsiaPe2"
    },
    {
      "cell_type": "code",
      "execution_count": null,
      "metadata": {
        "tags": [
          "hide-output"
        ],
        "id": "b66LsiXIaPe2"
      },
      "outputs": [],
      "source": [
        "%%sql\n",
        "\n",
        "SELECT * FROM cities WHERE country LIKE '%A';"
      ],
      "id": "b66LsiXIaPe2"
    },
    {
      "cell_type": "markdown",
      "metadata": {
        "id": "9MGd1GmdaPe2"
      },
      "source": [
        "To select cities with the country name containing the letter `S` in the middle, use the following query: `SELECT * FROM cities WHERE country LIKE '_S_'`."
      ],
      "id": "9MGd1GmdaPe2"
    },
    {
      "cell_type": "code",
      "execution_count": null,
      "metadata": {
        "tags": [
          "hide-output"
        ],
        "id": "a3w9Fmb7aPe3"
      },
      "outputs": [],
      "source": [
        "%%sql\n",
        "\n",
        "SELECT * FROM cities WHERE country LIKE '_S_';"
      ],
      "id": "a3w9Fmb7aPe3"
    },
    {
      "cell_type": "markdown",
      "metadata": {
        "id": "_7XiT9v5aPe3"
      },
      "source": [
        "To select cities from a list of countries, use the `IN` operator. For example, `SELECT * FROM cities WHERE country IN ('USA', 'CAN')` will return the rows where the `country` column is either `USA` or `CAN`."
      ],
      "id": "_7XiT9v5aPe3"
    },
    {
      "cell_type": "code",
      "execution_count": null,
      "metadata": {
        "tags": [
          "hide-output"
        ],
        "id": "IHSfy-vSaPe4"
      },
      "outputs": [],
      "source": [
        "%%sql\n",
        "\n",
        "SELECT * FROM cities WHERE country IN ('USA', 'CAN');"
      ],
      "id": "IHSfy-vSaPe4"
    },
    {
      "cell_type": "markdown",
      "metadata": {
        "id": "3AwxaIupaPe4"
      },
      "source": [
        "To select cities with a population between 1 and 10 million, use the following query: `SELECT * FROM cities WHERE population BETWEEN 1000000 AND 10000000`."
      ],
      "id": "3AwxaIupaPe4"
    },
    {
      "cell_type": "code",
      "execution_count": null,
      "metadata": {
        "scrolled": false,
        "tags": [
          "hide-output"
        ],
        "id": "WSYbEdGgaPe4"
      },
      "outputs": [],
      "source": [
        "%%sql\n",
        "\n",
        "SELECT * FROM cities WHERE population BETWEEN 1000000 AND 10000000;"
      ],
      "id": "WSYbEdGgaPe4"
    },
    {
      "cell_type": "markdown",
      "metadata": {
        "id": "hfONlqxKaPe5"
      },
      "source": [
        "## SQL Joins\n",
        "\n",
        "Reference: https://www.w3schools.com/sql/sql_join.asp\n",
        "\n",
        "Here are the different types of the JOINs in SQL:\n",
        "\n",
        "- `(INNER) JOIN`: Returns records that have matching values in both tables\n",
        "- `LEFT (OUTER) JOIN`: Returns all records from the left table, and the matched records from the right table\n",
        "- `RIGHT (OUTER) JOIN`: Returns all records from the right table, and the matched records from the left table\n",
        "- `FULL (OUTER) JOIN`: Returns all records when there is a match in either left or right table\n",
        "\n",
        "![](https://i.imgur.com/mITYzuS.png)\n",
        "\n",
        "We have two sample tables: `cities` and `countries`.\n",
        "\n",
        "There are 1,249 cities in the `cities` table and 243 countries in the `countries` table."
      ],
      "id": "hfONlqxKaPe5"
    },
    {
      "cell_type": "code",
      "execution_count": null,
      "metadata": {
        "id": "jKtvaaecaPe5"
      },
      "outputs": [],
      "source": [
        "%%sql\n",
        "\n",
        "SELECT COUNT(*) FROM cities;"
      ],
      "id": "jKtvaaecaPe5"
    },
    {
      "cell_type": "code",
      "execution_count": null,
      "metadata": {
        "id": "8WfGdcM_aPe5"
      },
      "outputs": [],
      "source": [
        "%%sql\n",
        "\n",
        "SELECT * FROM cities LIMIT 10;"
      ],
      "id": "8WfGdcM_aPe5"
    },
    {
      "cell_type": "code",
      "execution_count": null,
      "metadata": {
        "id": "jEhmfVddaPe5"
      },
      "outputs": [],
      "source": [
        "%%sql\n",
        "\n",
        "SELECT COUNT(*) FROM countries;"
      ],
      "id": "jEhmfVddaPe5"
    },
    {
      "cell_type": "code",
      "execution_count": null,
      "metadata": {
        "id": "X71HSBenaPe5"
      },
      "outputs": [],
      "source": [
        "%%sql\n",
        "\n",
        "SELECT * FROM countries LIMIT 10;"
      ],
      "id": "X71HSBenaPe5"
    },
    {
      "cell_type": "markdown",
      "metadata": {
        "id": "DeknqIHPaPe6"
      },
      "source": [
        "### SQL Inner Join\n",
        "\n",
        "The `INNER JOIN` keyword selects records that have matching values in both tables. In the example, we join the `cities` table with the `countries` table using the `country` column in the `cities` table and the `Alpha3_code` column in the `countries` table. The result contains 1,244 rows, indicating that there are 5 cities that do not have a matching country."
      ],
      "id": "DeknqIHPaPe6"
    },
    {
      "cell_type": "code",
      "execution_count": null,
      "metadata": {
        "tags": [
          "hide-output"
        ],
        "id": "J2XDZmmxaPe6"
      },
      "outputs": [],
      "source": [
        "%%sql\n",
        "\n",
        "SELECT * FROM cities INNER JOIN countries ON cities.country = countries.\"Alpha3_code\";"
      ],
      "id": "J2XDZmmxaPe6"
    },
    {
      "cell_type": "markdown",
      "metadata": {
        "id": "YvIRMBVDaPe6"
      },
      "source": [
        "Only select the `city` and `country` columns from the `cities` table and the `Country` column from the `countries` table."
      ],
      "id": "YvIRMBVDaPe6"
    },
    {
      "cell_type": "code",
      "execution_count": null,
      "metadata": {
        "tags": [
          "hide-output"
        ],
        "id": "gaPFFw2vaPe7"
      },
      "outputs": [],
      "source": [
        "%%sql\n",
        "\n",
        "SELECT name, cities.\"country\", countries.\"Country\" FROM cities INNER JOIN countries ON cities.country = countries.\"Alpha3_code\";"
      ],
      "id": "gaPFFw2vaPe7"
    },
    {
      "cell_type": "markdown",
      "metadata": {
        "id": "TiwQkYBfaPe7"
      },
      "source": [
        "### SQL Left Join\n",
        "\n",
        "The `LEFT JOIN` keyword returns all records from the left table (`cities`), and the matched records from the right table (`countries`). The result contains 1,249 rows, the same number of rows as the `cities` table."
      ],
      "id": "TiwQkYBfaPe7"
    },
    {
      "cell_type": "code",
      "execution_count": null,
      "metadata": {
        "tags": [
          "hide-output"
        ],
        "id": "RqWo8l5laPe7"
      },
      "outputs": [],
      "source": [
        "%%sql\n",
        "\n",
        "SELECT * FROM cities LEFT JOIN countries ON cities.country = countries.\"Alpha3_code\";"
      ],
      "id": "RqWo8l5laPe7"
    },
    {
      "cell_type": "markdown",
      "metadata": {
        "id": "0q9mCGj-aPe7"
      },
      "source": [
        "### SQL Right Join\n",
        "\n",
        "The `RIGHT JOIN` keyword returns all records from the right table (`countries`), and the matched records from the left table (`cities`). The result contains 1,291 rows."
      ],
      "id": "0q9mCGj-aPe7"
    },
    {
      "cell_type": "code",
      "execution_count": null,
      "metadata": {
        "tags": [
          "hide-output"
        ],
        "id": "04SrpNP-aPe7"
      },
      "outputs": [],
      "source": [
        "%%sql\n",
        "\n",
        "SELECT * FROM cities RIGHT JOIN countries ON cities.country = countries.\"Alpha3_code\";"
      ],
      "id": "04SrpNP-aPe7"
    },
    {
      "cell_type": "markdown",
      "metadata": {
        "id": "TMtqfOWzaPe8"
      },
      "source": [
        "### SQL Full Join\n",
        "\n",
        "The `FULL JOIN` keyword returns all records when there is a match in either left or right table. The result contains 1,296 rows."
      ],
      "id": "TMtqfOWzaPe8"
    },
    {
      "cell_type": "code",
      "execution_count": null,
      "metadata": {
        "tags": [
          "hide-output"
        ],
        "id": "Ig9jFMjWaPe9"
      },
      "outputs": [],
      "source": [
        "%%sql\n",
        "\n",
        "SELECT * FROM cities FULL JOIN countries ON cities.country = countries.\"Alpha3_code\";"
      ],
      "id": "Ig9jFMjWaPe9"
    },
    {
      "cell_type": "markdown",
      "metadata": {
        "id": "LV2OolGHaPe-"
      },
      "source": [
        "### SQL Union\n",
        "\n",
        "The `UNION` operator is used to combine the result-set of two or more `SELECT` statements."
      ],
      "id": "LV2OolGHaPe-"
    },
    {
      "cell_type": "code",
      "execution_count": null,
      "metadata": {
        "tags": [
          "hide-output"
        ],
        "id": "ruXZ5WOHaPe-"
      },
      "outputs": [],
      "source": [
        "%%sql\n",
        "\n",
        "SELECT country FROM cities\n",
        "UNION\n",
        "SELECT \"Alpha3_code\" FROM countries;"
      ],
      "id": "ruXZ5WOHaPe-"
    },
    {
      "cell_type": "markdown",
      "metadata": {
        "id": "Lz5a7Ud6aPe-"
      },
      "source": [
        "## Aggregation\n",
        "\n",
        "### Group By\n",
        "\n",
        "The `GROUP BY` statement groups rows that have the same values into summary rows, like \"find the number of cities in each country\".\n",
        "\n",
        "The `GROUP BY` statement is often used with aggregate functions (`COUNT`, `MAX`, `MIN`, `SUM`, `AVG`) to group the result-set by one or more columns."
      ],
      "id": "Lz5a7Ud6aPe-"
    },
    {
      "cell_type": "code",
      "execution_count": null,
      "metadata": {
        "scrolled": true,
        "tags": [
          "hide-output"
        ],
        "id": "jmew9jSBaPe-"
      },
      "outputs": [],
      "source": [
        "%%sql\n",
        "\n",
        "SELECT COUNT(name), country\n",
        "FROM cities\n",
        "GROUP BY country\n",
        "ORDER BY COUNT(name) DESC;"
      ],
      "id": "jmew9jSBaPe-"
    },
    {
      "cell_type": "code",
      "execution_count": null,
      "metadata": {
        "tags": [
          "hide-output"
        ],
        "id": "nPryQparaPe_"
      },
      "outputs": [],
      "source": [
        "%%sql\n",
        "\n",
        "SELECT countries.\"Country\", COUNT(name)\n",
        "FROM cities\n",
        "LEFT JOIN countries ON cities.country = countries.\"Alpha3_code\"\n",
        "GROUP BY countries.\"Country\"\n",
        "ORDER BY COUNT(name) DESC;"
      ],
      "id": "nPryQparaPe_"
    },
    {
      "cell_type": "markdown",
      "metadata": {
        "id": "3SjB7qQ1aPe_"
      },
      "source": [
        "### Having\n",
        "\n",
        "The `HAVING` clause was added to SQL because the `WHERE` keyword could not be used with aggregate functions.\n",
        "\n",
        "For example, to select countries with more than 40 cities:"
      ],
      "id": "3SjB7qQ1aPe_"
    },
    {
      "cell_type": "code",
      "execution_count": null,
      "metadata": {
        "id": "fHhvtj8JaPe_"
      },
      "outputs": [],
      "source": [
        "%%sql\n",
        "\n",
        "SELECT COUNT(name), country\n",
        "FROM cities\n",
        "GROUP BY country\n",
        "HAVING COUNT(name) > 40\n",
        "ORDER BY COUNT(name) DESC;"
      ],
      "id": "fHhvtj8JaPe_"
    },
    {
      "cell_type": "code",
      "execution_count": null,
      "metadata": {
        "id": "cPmm22O6aPfA"
      },
      "outputs": [],
      "source": [
        "%%sql\n",
        "\n",
        "SELECT countries.\"Country\", COUNT(name)\n",
        "FROM cities\n",
        "LEFT JOIN countries ON cities.country = countries.\"Alpha3_code\"\n",
        "GROUP BY countries.\"Country\"\n",
        "HAVING COUNT(name) > 40\n",
        "ORDER BY COUNT(name) DESC;"
      ],
      "id": "cPmm22O6aPfA"
    },
    {
      "cell_type": "markdown",
      "metadata": {
        "id": "ONoW3swTaPfA"
      },
      "source": [
        "## Conditional statements\n",
        "\n",
        "The `CASE` statement goes through conditions and returns a value when the first condition is met (like an `IF-THEN-ELSE` statement). So, once a condition is true, it will stop reading and return the result. If no conditions are true, it returns the value in the `ELSE` clause.\n",
        "\n",
        "For example, to divide cities into 3 groups based on their population:"
      ],
      "id": "ONoW3swTaPfA"
    },
    {
      "cell_type": "code",
      "execution_count": null,
      "metadata": {
        "scrolled": false,
        "tags": [
          "hide-output"
        ],
        "id": "bfcXYCA_aPfB"
      },
      "outputs": [],
      "source": [
        "%%sql\n",
        "\n",
        "SELECT name, population,\n",
        "CASE\n",
        "    WHEN population > 10000000 THEN 'Megacity'\n",
        "    WHEN population > 1000000 THEN 'Large city'\n",
        "    ELSE 'Small city'\n",
        "END AS category\n",
        "FROM cities;"
      ],
      "id": "bfcXYCA_aPfB"
    },
    {
      "cell_type": "markdown",
      "metadata": {
        "id": "_XhkoV-paPfB"
      },
      "source": [
        "## Saving results\n",
        "\n",
        "You can save the results of a query to a new table using the `CREATE TABLE AS` statement."
      ],
      "id": "_XhkoV-paPfB"
    },
    {
      "cell_type": "code",
      "execution_count": null,
      "metadata": {
        "id": "O0KfKzwUaPfB"
      },
      "outputs": [],
      "source": [
        "%%sql\n",
        "\n",
        "CREATE TABLE cities2 AS SELECT * FROM cities;"
      ],
      "id": "O0KfKzwUaPfB"
    },
    {
      "cell_type": "markdown",
      "metadata": {
        "id": "bO3xMbKwaPfC"
      },
      "source": [
        "Show the new table content."
      ],
      "id": "bO3xMbKwaPfC"
    },
    {
      "cell_type": "code",
      "execution_count": null,
      "metadata": {
        "id": "hnm3sH10aPfC"
      },
      "outputs": [],
      "source": [
        "%%sql\n",
        "\n",
        "FROM cities2;"
      ],
      "id": "hnm3sH10aPfC"
    },
    {
      "cell_type": "markdown",
      "metadata": {
        "id": "1OqSh0s_aPfC"
      },
      "source": [
        "Use the `DROP TABLE` statement to delete the table."
      ],
      "id": "1OqSh0s_aPfC"
    },
    {
      "cell_type": "code",
      "execution_count": null,
      "metadata": {
        "id": "VP15ssjNaPfC"
      },
      "outputs": [],
      "source": [
        "%%sql\n",
        "\n",
        "DROP TABLE IF EXISTS cities_usa;\n",
        "CREATE TABLE cities_usa AS (SELECT * FROM cities WHERE country = 'USA');"
      ],
      "id": "VP15ssjNaPfC"
    },
    {
      "cell_type": "code",
      "execution_count": null,
      "metadata": {
        "id": "7YE7kJTSaPfD"
      },
      "outputs": [],
      "source": [
        "%%sql\n",
        "\n",
        "FROM cities_usa;"
      ],
      "id": "7YE7kJTSaPfD"
    },
    {
      "cell_type": "markdown",
      "metadata": {
        "id": "etUFGnXKaPfD"
      },
      "source": [
        "Use the `INSERT INTO` statement to insert rows into a table."
      ],
      "id": "etUFGnXKaPfD"
    },
    {
      "cell_type": "code",
      "execution_count": null,
      "metadata": {
        "id": "Gny9FqcaaPfD"
      },
      "outputs": [],
      "source": [
        "%%sql\n",
        "\n",
        "INSERT INTO cities_usa (SELECT * FROM cities WHERE country = 'CAN');"
      ],
      "id": "Gny9FqcaaPfD"
    },
    {
      "cell_type": "markdown",
      "metadata": {
        "id": "1GWzVEMyaPfD"
      },
      "source": [
        "## SQL Comments\n",
        "\n",
        "Comments are used to explain sections of SQL statements, or to prevent execution of SQL statements.\n",
        "\n",
        "\n",
        "### Single line comMents\n",
        "\n",
        "Single line comments start with --.\n",
        "\n",
        "Any text between -- and the end of the line will be ignored (will not be executed).\n",
        "\n",
        "The following example uses a single-line comment as an explanation:"
      ],
      "id": "1GWzVEMyaPfD"
    },
    {
      "cell_type": "code",
      "execution_count": null,
      "metadata": {
        "id": "EY-dn8UxaPfE"
      },
      "outputs": [],
      "source": [
        "%%sql\n",
        "\n",
        "SELECT * FROM cities LIMIT 10 -- This is a comment;"
      ],
      "id": "EY-dn8UxaPfE"
    },
    {
      "cell_type": "markdown",
      "metadata": {
        "id": "CFIlF2NKaPfE"
      },
      "source": [
        "### Multi-line comments\n",
        "\n",
        "Multi-line comments start with `/*` and end with `*/`.\n",
        "\n",
        "Any text between `/*` and `*/` will be ignored.\n",
        "\n",
        "The following example uses a multi-line comment as an explanation:"
      ],
      "id": "CFIlF2NKaPfE"
    },
    {
      "cell_type": "code",
      "execution_count": null,
      "metadata": {
        "id": "iHoZuv0AaPfF"
      },
      "outputs": [],
      "source": [
        "%%sql\n",
        "\n",
        "SELECT COUNT(name), country\n",
        "FROM cities\n",
        "/*\n",
        " * Adding Group by\n",
        " * Adding Order by\n",
        " */\n",
        "GROUP BY country\n",
        "ORDER BY COUNT(name) DESC\n",
        "LIMIT 10;"
      ],
      "id": "iHoZuv0AaPfF"
    }
  ],
  "metadata": {
    "celltoolbar": "Tags",
    "hide_input": false,
    "kernelspec": {
      "display_name": "Python 3",
      "language": "python",
      "name": "python3"
    },
    "language_info": {
      "codemirror_mode": {
        "name": "ipython",
        "version": 3
      },
      "file_extension": ".py",
      "mimetype": "text/x-python",
      "name": "python",
      "nbconvert_exporter": "python",
      "pygments_lexer": "ipython3",
      "version": "3.9.18"
    },
    "toc": {
      "base_numbering": 1,
      "nav_menu": {},
      "number_sections": true,
      "sideBar": true,
      "skip_h1_title": false,
      "title_cell": "Table of Contents",
      "title_sidebar": "Contents",
      "toc_cell": false,
      "toc_position": {},
      "toc_section_display": true,
      "toc_window_display": false
    },
    "varInspector": {
      "cols": {
        "lenName": 16,
        "lenType": 16,
        "lenVar": 40
      },
      "kernels_config": {
        "python": {
          "delete_cmd_postfix": "",
          "delete_cmd_prefix": "del ",
          "library": "var_list.py",
          "varRefreshCmd": "print(var_dic_list())"
        },
        "r": {
          "delete_cmd_postfix": ") ",
          "delete_cmd_prefix": "rm(",
          "library": "var_list.r",
          "varRefreshCmd": "cat(var_dic_list()) "
        }
      },
      "types_to_exclude": [
        "module",
        "function",
        "builtin_function_or_method",
        "instance",
        "_Feature"
      ],
      "window_display": false
    },
    "colab": {
      "provenance": []
    }
  },
  "nbformat": 4,
  "nbformat_minor": 5
}