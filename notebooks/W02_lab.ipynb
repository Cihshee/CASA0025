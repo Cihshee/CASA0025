{
  "cells": [
    {
      "cell_type": "markdown",
      "metadata": {
        "id": "XdU5bfenkjrM"
      },
      "source": [
        "# Week 2 Lab\n",
        "\n",
        "**Datasets**:\n",
        "\n",
        "The following datasets are used in this lab.\n",
        "\n",
        "- [nyc_subway_stations.tsv](https://open.gishub.org/data/duckdb/nyc_subway_stations.tsv)\n",
        "- [nyc_neighborhoods.tsv](https://open.gishub.org/data/duckdb/nyc_neighborhoods.tsv)"
      ],
      "id": "XdU5bfenkjrM"
    },
    {
      "cell_type": "code",
      "execution_count": null,
      "metadata": {
        "id": "8XrxXB3hkjrO"
      },
      "outputs": [],
      "source": [
        "# %pip install duckdb duckdb-engine jupysql"
      ],
      "id": "8XrxXB3hkjrO"
    },
    {
      "cell_type": "code",
      "execution_count": null,
      "metadata": {
        "id": "Eom_UXvukjrP"
      },
      "outputs": [],
      "source": [
        "import duckdb\n",
        "\n",
        "%load_ext sql"
      ],
      "id": "Eom_UXvukjrP"
    },
    {
      "cell_type": "code",
      "execution_count": null,
      "metadata": {
        "id": "Z6SPFlUfkjrP"
      },
      "outputs": [],
      "source": [
        "%config SqlMagic.autopandas = True\n",
        "%config SqlMagic.feedback = False\n",
        "%config SqlMagic.displaycon = False"
      ],
      "id": "Z6SPFlUfkjrP"
    },
    {
      "cell_type": "markdown",
      "metadata": {
        "id": "LucEXcoykjrQ"
      },
      "source": [
        "## Question 1: Creating Tables\n",
        "\n",
        "Create a database, then write a SQL query to create a table named `nyc_subway_stations` and load the data from the file `nyc_subway_stations.tsv` into it. Similarly, create a table named `nyc_neighborhoods` and load the data from the file `nyc_neighborhoods.tsv` into it."
      ],
      "id": "LucEXcoykjrQ"
    },
    {
      "cell_type": "code",
      "execution_count": null,
      "metadata": {
        "id": "mQKJLJqpkjrQ"
      },
      "outputs": [],
      "source": [
        "# Add your code here."
      ],
      "id": "mQKJLJqpkjrQ"
    },
    {
      "cell_type": "markdown",
      "metadata": {
        "id": "-iJK_VARkjrR"
      },
      "source": [
        "## Question 2: Column Filtering\n",
        "\n",
        "Write a SQL query to display the `ID`, `NAME`, and `BOROUGH` of each subway station in the `nyc_subway_stations` dataset."
      ],
      "id": "-iJK_VARkjrR"
    },
    {
      "cell_type": "code",
      "execution_count": null,
      "metadata": {
        "id": "ssBOX64nkjrR"
      },
      "outputs": [],
      "source": [
        "# Add your code here."
      ],
      "id": "ssBOX64nkjrR"
    },
    {
      "cell_type": "markdown",
      "metadata": {
        "id": "zFAPy68wkjrS"
      },
      "source": [
        "## Question 3: Row Filtering\n",
        "\n",
        "Write a SQL query to find all subway stations in the `nyc_subway_stations` dataset that are located in the borough of Manhattan."
      ],
      "id": "zFAPy68wkjrS"
    },
    {
      "cell_type": "code",
      "execution_count": null,
      "metadata": {
        "id": "O60Ev1fQkjrT"
      },
      "outputs": [],
      "source": [
        "# Add your code here."
      ],
      "id": "O60Ev1fQkjrT"
    },
    {
      "cell_type": "markdown",
      "metadata": {
        "id": "BU8r7e6okjrT"
      },
      "source": [
        "## Question 4: Sorting Results\n",
        "\n",
        "Write a SQL query to list the subway stations in the `nyc_subway_stations` dataset in alphabetical order by their names."
      ],
      "id": "BU8r7e6okjrT"
    },
    {
      "cell_type": "code",
      "execution_count": null,
      "metadata": {
        "id": "Rn_ioD7AkjrU"
      },
      "outputs": [],
      "source": [
        "# Add your code here."
      ],
      "id": "Rn_ioD7AkjrU"
    },
    {
      "cell_type": "markdown",
      "metadata": {
        "id": "EkRRIsxpkjrV"
      },
      "source": [
        "## Question 5: Unique Values\n",
        "\n",
        "Write a SQL query to find the distinct boroughs represented in the `nyc_subway_stations` dataset."
      ],
      "id": "EkRRIsxpkjrV"
    },
    {
      "cell_type": "code",
      "execution_count": null,
      "metadata": {
        "id": "243yAI7ZkjrV"
      },
      "outputs": [],
      "source": [
        "# Add your code here."
      ],
      "id": "243yAI7ZkjrV"
    },
    {
      "cell_type": "markdown",
      "metadata": {
        "id": "xRwQOr85kjrW"
      },
      "source": [
        "## Question 6: Counting Rows\n",
        "\n",
        "Write a SQL query to count the number of subway stations in each borough in the `nyc_subway_stations` dataset."
      ],
      "id": "xRwQOr85kjrW"
    },
    {
      "cell_type": "code",
      "execution_count": null,
      "metadata": {
        "id": "7dzlywfJkjrW"
      },
      "outputs": [],
      "source": [
        "# Add your code here."
      ],
      "id": "7dzlywfJkjrW"
    },
    {
      "cell_type": "markdown",
      "metadata": {
        "id": "kx_uP7hNkjrW"
      },
      "source": [
        "## Question 7: Aggregating Data\n",
        "\n",
        "Write a SQL query to list the number of subway stations in each borough, sorted in descending order by the count."
      ],
      "id": "kx_uP7hNkjrW"
    },
    {
      "cell_type": "code",
      "execution_count": null,
      "metadata": {
        "id": "GrmgU1ehkjrW"
      },
      "outputs": [],
      "source": [
        "# Add your code here."
      ],
      "id": "GrmgU1ehkjrW"
    },
    {
      "cell_type": "markdown",
      "metadata": {
        "id": "QwtRrl1WkjrX"
      },
      "source": [
        "## Question 8: Joining Tables\n",
        "\n",
        "Write a SQL query to join the `nyc_subway_stations` and `nyc_neighborhoods` datasets on the borough name, displaying the subway station name and the neighborhood name."
      ],
      "id": "QwtRrl1WkjrX"
    },
    {
      "cell_type": "code",
      "execution_count": null,
      "metadata": {
        "id": "r7yCF3DikjrX"
      },
      "outputs": [],
      "source": [
        "# Add your code here."
      ],
      "id": "r7yCF3DikjrX"
    },
    {
      "cell_type": "markdown",
      "metadata": {
        "id": "dNI_oGZvkjrX"
      },
      "source": [
        "## Question 9: String Manipulation\n",
        "\n",
        "Write a SQL query to display the names of subway stations in the `nyc_subway_stations` dataset that contain the word \"St\" in their names."
      ],
      "id": "dNI_oGZvkjrX"
    },
    {
      "cell_type": "code",
      "execution_count": null,
      "metadata": {
        "id": "S1UnV_9IkjrX"
      },
      "outputs": [],
      "source": [
        "# Add your code here."
      ],
      "id": "S1UnV_9IkjrX"
    },
    {
      "cell_type": "markdown",
      "metadata": {
        "id": "0NVUxqUdkjrX"
      },
      "source": [
        "## Question 10: Filtering with Multiple Conditions\n",
        "\n",
        "Write a SQL query to find all subway stations in the `nyc_subway_stations` dataset that are in the borough of Brooklyn and have routes that include the letter \"R\"."
      ],
      "id": "0NVUxqUdkjrX"
    },
    {
      "cell_type": "code",
      "execution_count": null,
      "metadata": {
        "id": "XQ09HombkjrX"
      },
      "outputs": [],
      "source": [
        "# Add your code here."
      ],
      "id": "XQ09HombkjrX"
    },
    {
      "cell_type": "markdown",
      "id": "2a78cbfd",
      "metadata": {
        "id": "2a78cbfd"
      },
      "source": [
        "Once you've completed your attempt, you can check your answers [here](https://github.com/oballinger/CASA0025/blob/main/notebooks/W02_lab_solution.ipynb)."
      ]
    }
  ],
  "metadata": {
    "kernelspec": {
      "display_name": "Python 3",
      "language": "python",
      "name": "python3"
    },
    "language_info": {
      "codemirror_mode": {
        "name": "ipython",
        "version": 3
      },
      "file_extension": ".py",
      "mimetype": "text/x-python",
      "name": "python",
      "nbconvert_exporter": "python",
      "pygments_lexer": "ipython3",
      "version": "3.9.18"
    },
    "colab": {
      "provenance": []
    }
  },
  "nbformat": 4,
  "nbformat_minor": 5
}